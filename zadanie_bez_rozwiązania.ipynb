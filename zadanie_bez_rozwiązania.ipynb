{
  "nbformat": 4,
  "nbformat_minor": 0,
  "metadata": {
    "colab": {
      "provenance": []
    },
    "kernelspec": {
      "name": "python3",
      "display_name": "Python 3"
    },
    "language_info": {
      "name": "python"
    }
  },
  "cells": [
    {
      "cell_type": "markdown",
      "source": [
        "Hejka, to nasza średnia firma - mamy pięćdziesięciu pracowników, szefa i wiceszefa. Zajmujemy się streamingiem. Możesz nam pomóc sprawdzić ile średnio zarabia pracownik w tej naszej firmie? Szef mówi, że nie da nam podwyżki, bo średnio zarabiamy prawie dwadzieścia tysięcy - problem w tym, że kogo nie spytam, nikt nie zarabia powyżej sześciu tysięcy... Pomóż mi znaleźć kłamcę, szefostwo, czy koledzy z biurka..."
      ],
      "metadata": {
        "id": "7JXnpkhcf2vi"
      }
    },
    {
      "cell_type": "markdown",
      "source": [
        "Tutaj masz zbiór wypłat wszystkich pracowników - ja nie umiem czytać liczb. To prawda, że zarabiamy średnio dwadzieścia tysięcy?\n",
        "\n",
        "1.   Sprawdź, ile płac jest w dataset\n",
        "2.   Policz średnią płac\n",
        "\n"
      ],
      "metadata": {
        "id": "pnmxtdWKhQkD"
      }
    },
    {
      "cell_type": "code",
      "execution_count": 2,
      "metadata": {
        "id": "TDeoY8DDk9Cx"
      },
      "outputs": [],
      "source": [
        "dataset= [3542, 3579, 4745, 4386, 3784, 3832, 4045, 3912, 4889, 3951, 4672, 4381, 4733, 3591, 4523, 4643, 3762, 3841, 3622, 4925, 4576, 3643, 4551, 3982, 3675, 3635, 4817, 3915, 4880, 4661, 4577, 4528, 3858, 3567, 3866, 403888, 4597, 3960, 3834, 4306, 4525, 3692, 4136, 4043, 399991, 3624, 4816, 4833, 4054, 4573, 4199, 3757]"
      ]
    },
    {
      "cell_type": "code",
      "source": [],
      "metadata": {
        "id": "jI3qSPcjgRhS"
      },
      "execution_count": 2,
      "outputs": []
    },
    {
      "cell_type": "code",
      "source": [],
      "metadata": {
        "id": "j7ecyrx3pMUv"
      },
      "execution_count": 2,
      "outputs": []
    },
    {
      "cell_type": "markdown",
      "source": [
        "O wow! To jednak prawda? No nie, możesz jakoś sprawdzić, czy coś nie zawyża wyników...? Szefostwo ostatnio chwaliło się podwyżką... Może oni to jakoś zawyżają...\n",
        "\n",
        "1.   Napisz funkcję `detect_outliers(dataset)`, żeby znaleźć odstające wartości wypłat\n"
      ],
      "metadata": {
        "id": "krC0727Khmfs"
      }
    },
    {
      "cell_type": "code",
      "source": [],
      "metadata": {
        "id": "O7Mr_bLilHBY"
      },
      "execution_count": 2,
      "outputs": []
    },
    {
      "cell_type": "markdown",
      "source": [
        "Piękna funkcja! Chwila prawdy...\n",
        "\n",
        "1.   Podaj wartości odstające\n",
        "\n"
      ],
      "metadata": {
        "id": "kiAP6M5xh4IH"
      }
    },
    {
      "cell_type": "code",
      "source": [],
      "metadata": {
        "id": "DFtg6Fp1lk0F"
      },
      "execution_count": 2,
      "outputs": []
    },
    {
      "cell_type": "markdown",
      "source": [
        "No nie! Tyle zarabiają? Skandal! Eat the rich! To jaka jest prawdziwa średnia?\n",
        "\n",
        "1.   Policz średnią jeszcze raz - tym razem z dataset bez wartości odstających\n",
        "\n"
      ],
      "metadata": {
        "id": "CCu9Pxfqh8DJ"
      }
    },
    {
      "cell_type": "code",
      "source": [],
      "metadata": {
        "id": "9bwPHZ76mlfi"
      },
      "execution_count": 2,
      "outputs": []
    },
    {
      "cell_type": "markdown",
      "source": [
        "Wow! Wiedziałem!"
      ],
      "metadata": {
        "id": "uN-Tt6llmxpo"
      }
    }
  ]
}