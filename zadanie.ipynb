{
  "nbformat": 4,
  "nbformat_minor": 0,
  "metadata": {
    "colab": {
      "provenance": []
    },
    "kernelspec": {
      "name": "python3",
      "display_name": "Python 3"
    },
    "language_info": {
      "name": "python"
    }
  },
  "cells": [
    {
      "cell_type": "markdown",
      "source": [
        "Hejka, to nasza średnia firma - mamy pięćdziesięciu pracowników, szefa i wiceszefa. Zajmujemy się streamingiem. Możesz nam pomóc sprawdzić ile średnio zarabia pracownik w tej naszej firmie? Szef mówi, że nie da nam podwyżki, bo średnio zarabiamy prawie dwadzieścia tysięcy - problem w tym, że kogo nie spytam, nikt nie zarabia powyżej sześciu tysięcy... Pomóż mi znaleźć kłamcę, szefostwo, czy koledzy z biurka..."
      ],
      "metadata": {
        "id": "7JXnpkhcf2vi"
      }
    },
    {
      "cell_type": "markdown",
      "source": [
        "Tutaj masz zbiór wypłat wszystkich pracowników - ja nie umiem czytać liczb. To prawda, że zarabiamy średnio dwadzieścia tysięcy?"
      ],
      "metadata": {
        "id": "pnmxtdWKhQkD"
      }
    },
    {
      "cell_type": "code",
      "execution_count": 33,
      "metadata": {
        "colab": {
          "base_uri": "https://localhost:8080/"
        },
        "id": "TDeoY8DDk9Cx",
        "outputId": "81a21897-32bd-4414-fc37-d233fea7de79"
      },
      "outputs": [
        {
          "output_type": "execute_result",
          "data": {
            "text/plain": [
              "52"
            ]
          },
          "metadata": {},
          "execution_count": 33
        }
      ],
      "source": [
        "import numpy as np\n",
        "import pandas as pd\n",
        "dataset= [3542, 3579, 4745, 4386, 3784, 3832, 4045, 3912, 4889, 3951, 4672, 4381, 4733, 3591, 4523, 4643, 3762, 3841, 3622, 4925, 4576, 3643, 4551, 3982, 3675, 3635, 4817, 3915, 4880, 4661, 4577, 4528, 3858, 3567, 3866, 403888, 4597, 3960, 3834, 4306, 4525, 3692, 4136, 4043, 399991, 3624, 4816, 4833, 4054, 4573, 4199, 3757]\n",
        "len(dataset)"
      ]
    },
    {
      "cell_type": "code",
      "source": [
        "#mean = sum(dataset)/len(dataset) jakby ktoś nie umiał w funkcje, zawsze można wrócić do podstaw :)\n",
        "mean = np.mean(dataset)\n",
        "int(mean)"
      ],
      "metadata": {
        "colab": {
          "base_uri": "https://localhost:8080/"
        },
        "id": "jI3qSPcjgRhS",
        "outputId": "a767fc85-7f2b-4588-c854-e7d7ec3df925"
      },
      "execution_count": 37,
      "outputs": [
        {
          "output_type": "execute_result",
          "data": {
            "text/plain": [
              "19479"
            ]
          },
          "metadata": {},
          "execution_count": 37
        }
      ]
    },
    {
      "cell_type": "markdown",
      "source": [
        "O wow! To jednak prawda? No nie, możesz jakoś sprawdzić, czy coś nie zawyża wyników...? Szefostwo ostatnio chwaliło się podwyżką... Może oni to jakoś zawyżają..."
      ],
      "metadata": {
        "id": "krC0727Khmfs"
      }
    },
    {
      "cell_type": "code",
      "source": [
        "import numpy as np\n",
        "import pandas as pd\n",
        "outliers=[]\n",
        "def detect_outliers(dataset):\n",
        "\n",
        "    threshold = 3 #próg odchyleń std który będzie oddzielał wartości odstające\n",
        "    mean = np.mean(dataset)\n",
        "    std = np.std(dataset)\n",
        "\n",
        "\n",
        "    for i in dataset:\n",
        "        z_score = (i - mean)/std\n",
        "        if np.abs(z_score) > threshold:\n",
        "            outliers.append(i)\n",
        "    return outliers"
      ],
      "metadata": {
        "id": "O7Mr_bLilHBY"
      },
      "execution_count": 40,
      "outputs": []
    },
    {
      "cell_type": "markdown",
      "source": [
        "Piękna funkcja! Chwila prawdy..."
      ],
      "metadata": {
        "id": "kiAP6M5xh4IH"
      }
    },
    {
      "cell_type": "code",
      "source": [
        "outlier_pt=detect_outliers(dataset)\n",
        "print(outlier_pt)"
      ],
      "metadata": {
        "colab": {
          "base_uri": "https://localhost:8080/"
        },
        "id": "DFtg6Fp1lk0F",
        "outputId": "4b746833-466d-4c73-9ecd-c1e3b69ad5e7"
      },
      "execution_count": 50,
      "outputs": [
        {
          "output_type": "stream",
          "name": "stdout",
          "text": [
            "[403888, 399991]\n"
          ]
        }
      ]
    },
    {
      "cell_type": "markdown",
      "source": [
        "No nie! Tyle zarabiają? Skandal! Eat the rich! To jaka jest prawdziwa średnia?"
      ],
      "metadata": {
        "id": "CCu9Pxfqh8DJ"
      }
    },
    {
      "cell_type": "code",
      "source": [
        "new_mean = np.mean(dataset)\n",
        "int(new_mean)"
      ],
      "metadata": {
        "colab": {
          "base_uri": "https://localhost:8080/"
        },
        "id": "9bwPHZ76mlfi",
        "outputId": "fdd12a6a-d20e-41e5-8bbd-bea0350d1374"
      },
      "execution_count": 49,
      "outputs": [
        {
          "output_type": "execute_result",
          "data": {
            "text/plain": [
              "4180"
            ]
          },
          "metadata": {},
          "execution_count": 49
        }
      ]
    },
    {
      "cell_type": "markdown",
      "source": [
        "Wow! Wiedziałem!"
      ],
      "metadata": {
        "id": "uN-Tt6llmxpo"
      }
    }
  ]
}